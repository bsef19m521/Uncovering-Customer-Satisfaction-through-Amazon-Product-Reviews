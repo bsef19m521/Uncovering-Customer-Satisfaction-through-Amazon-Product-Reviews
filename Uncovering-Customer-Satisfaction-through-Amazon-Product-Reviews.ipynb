{
 "cells": [
  {
   "cell_type": "markdown",
   "id": "1f4cf76d",
   "metadata": {},
   "source": [
    "# Uncovering-Customer-Satisfaction-through-Amazon-Product-Reviews\n",
    "\n",
    "## Objective:\n",
    "A Python project that uses Web Scraping techniques to extract product reviews from Amazon.com and performs sentiment analysis on the reviews to uncover customer satisfaction. The project focuses on extracting customer feedback from Amazon product pages to understand customer opinions and gather insights on how satisfied they are with the product.\n",
    "\n",
    "\n",
    "\n",
    "## Project Outline\n",
    "- Web scraping the Amazon product page to extract customer reviews.\n",
    "- Preprocessing the reviews by removing stopwords, punctuation marks, and HTML tags.\n",
    "- Performing sentiment analysis on the reviews using the NLTK library.\n",
    "- Plotting the results using visualizations to showcase customer satisfaction.\n"
   ]
  },
  {
   "cell_type": "code",
   "execution_count": null,
   "id": "450fc571",
   "metadata": {},
   "outputs": [],
   "source": []
  },
  {
   "cell_type": "code",
   "execution_count": 1,
   "id": "25a2658c",
   "metadata": {},
   "outputs": [],
   "source": [
    "# importing all the libraries\n",
    "import pandas as pd\n",
    "import numpy as np\n",
    "import seaborn as sns\n",
    "import matplotlib.pyplot as plt\n",
    "import requests\n",
    "from bs4 import BeautifulSoup\n"
   ]
  },
  {
   "cell_type": "code",
   "execution_count": 3,
   "id": "de9a4d8f",
   "metadata": {},
   "outputs": [],
   "source": [
    "import warnings\n",
    "warnings.filterwarnings('ignore')"
   ]
  },
  {
   "cell_type": "code",
   "execution_count": null,
   "id": "b88120d8",
   "metadata": {},
   "outputs": [],
   "source": []
  }
 ],
 "metadata": {
  "kernelspec": {
   "display_name": "Python 3 (ipykernel)",
   "language": "python",
   "name": "python3"
  },
  "language_info": {
   "codemirror_mode": {
    "name": "ipython",
    "version": 3
   },
   "file_extension": ".py",
   "mimetype": "text/x-python",
   "name": "python",
   "nbconvert_exporter": "python",
   "pygments_lexer": "ipython3",
   "version": "3.8.10"
  }
 },
 "nbformat": 4,
 "nbformat_minor": 5
}
